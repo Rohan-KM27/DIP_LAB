{
 "cells": [
  {
   "cell_type": "markdown",
   "id": "bd03aca8",
   "metadata": {},
   "source": [
    "# Program 5"
   ]
  },
  {
   "cell_type": "code",
   "execution_count": null,
   "id": "77df3098",
   "metadata": {},
   "outputs": [],
   "source": [
    "import cv2\n",
    "\n",
    "img = cv2.imread('Cat03.jpg', cv2.IMREAD_GRAYSCALE)\n",
    "\n",
    "clahe = cv2.createCLAHE(clipLimit=2.0, tileGridSize=(8,8))\n",
    "clahe_img = clahe.apply(img)\n",
    "thresh_val, thresh_img = cv2.threshold(clahe_img, 0, 255,cv2.THRESH_BINARY+cv2.THRESH_OTSU)\n",
    "\n",
    "\n",
    "cv2.imshow('Original Image', img)\n",
    "cv2.imshow('Enhanced Image', clahe_img)\n",
    "cv2.imshow('Segmented Image', thresh_img)\n",
    "\n",
    "cv2.waitKey(0)\n",
    "cv2.destroyAllWindows()"
   ]
  },
  {
   "cell_type": "markdown",
   "id": "29474493",
   "metadata": {},
   "source": [
    "# Program 4"
   ]
  },
  {
   "cell_type": "code",
   "execution_count": null,
   "id": "4bd8eafc",
   "metadata": {},
   "outputs": [],
   "source": [
    "import cv2\n",
    "\n",
    "img = cv2.imread('Cat03.jpg', cv2.IMREAD_GRAYSCALE)\n",
    "\n",
    "blurred = cv2.GaussianBlur(img, (5, 5), 0)\n",
    "edges = cv2.Canny(blurred, 100, 200)\n",
    "laplacian = cv2.Laplacian(blurred, cv2.CV_64F)\n",
    "kernel = cv2.getGaborKernel((10, 10), 3, 0, 10, 0.5, 0, ktype=cv2.CV_32F)\n",
    "gabor = cv2.filter2D(img, cv2.CV_8UC3, kernel)\n",
    "\n",
    "cv2.imshow('Original', img)\n",
    "cv2.imshow('Canny Edges', edges)\n",
    "cv2.imshow('Laplacian Edges', laplacian)\n",
    "cv2.imshow('Gabor Filtered', gabor)\n",
    "\n",
    "cv2.waitKey(0)\n",
    "cv2.destroyAllWindows()"
   ]
  },
  {
   "cell_type": "markdown",
   "id": "77db69a3",
   "metadata": {},
   "source": [
    "# Program 3"
   ]
  },
  {
   "cell_type": "code",
   "execution_count": null,
   "id": "f063b892",
   "metadata": {},
   "outputs": [],
   "source": [
    "import cv2\n",
    "import numpy as np\n",
    "\n",
    "img = cv2.imread('Cat03.jpg')\n",
    "\n",
    "gray = cv2.cvtColor(img, cv2.COLOR_BGR2GRAY)\n",
    "kernel = np.ones((5,5),np.uint8)\n",
    "erosion = cv2.erode(gray, kernel, iterations=1)\n",
    "dilation = cv2.dilate(gray, kernel, iterations=1)\n",
    "\n",
    "edges_erosion = gray - erosion\n",
    "edges_dilation = dilation - gray\n",
    "\n",
    "cv2.imshow('Original', img)\n",
    "cv2.imshow('Eroded', erosion)\n",
    "cv2.imshow('Dilated', dilation)\n",
    "cv2.imshow('Edges (Erosion)', edges_erosion)\n",
    "cv2.imshow('Edges (Dilation)', edges_dilation)\n",
    "\n",
    "cv2.waitKey(0)\n",
    "cv2.destroyAllWindows()"
   ]
  },
  {
   "cell_type": "markdown",
   "id": "0946995b",
   "metadata": {},
   "source": [
    "# Program 2"
   ]
  },
  {
   "cell_type": "code",
   "execution_count": null,
   "id": "167bb428",
   "metadata": {},
   "outputs": [],
   "source": [
    "import cv2\n",
    "import numpy as np\n",
    "img = cv2.imread('Cat03.jpg')\n",
    "\n",
    "h, w = img.shape[:2]\n",
    "M_rotate = cv2.getRotationMatrix2D((w//2, h//2), 60,1.5)\n",
    "M_translate = np.float32([[1, 0, 50], [0, 1, -30]])\n",
    "\n",
    "img_rotated = cv2.warpAffine(img, M_rotate, (w, h))\n",
    "img_transformed = cv2.warpAffine(img, M_translate, (w, h))\n",
    "\n",
    "cv2.imshow('Original', img)\n",
    "cv2.imshow('Rotated', img_rotated)\n",
    "cv2.imshow('Transformed', img_transformed)\n",
    "\n",
    "cv2.waitKey(0)\n",
    "cv2.destroyAllWindows()"
   ]
  },
  {
   "cell_type": "markdown",
   "id": "881e84f1",
   "metadata": {},
   "source": [
    "# Program 1"
   ]
  },
  {
   "cell_type": "code",
   "execution_count": null,
   "id": "33b1ab05",
   "metadata": {},
   "outputs": [],
   "source": [
    "import cv2\n",
    "img = cv2.imread('Cat03.jpg')\n",
    "\n",
    "height, width= img.shape [:2]\n",
    "\n",
    "half_width = width //2\n",
    "half_height = height // 2\n",
    "\n",
    "top_left = img[0: half_height, 0: half_width]\n",
    "top_right = img[0: half_height, half_width: width]\n",
    "bottom_left = img[half_height:height, 0:half_width]\n",
    "bottom_right = img[half_height: height, half_width: width]\n",
    "\n",
    "cv2.imshow ('Top Left', top_left)\n",
    "cv2.imshow ('Top Right', top_right)\n",
    "cv2.imshow ('Bottom Left', bottom_left)\n",
    "cv2.imshow(' Bottom Right', bottom_right)\n",
    "\n",
    "cv2.waitKey(0)\n",
    "cv2.destroyAllWindows()"
   ]
  }
 ],
 "metadata": {
  "kernelspec": {
   "display_name": "Python 3 (ipykernel)",
   "language": "python",
   "name": "python3"
  },
  "language_info": {
   "codemirror_mode": {
    "name": "ipython",
    "version": 3
   },
   "file_extension": ".py",
   "mimetype": "text/x-python",
   "name": "python",
   "nbconvert_exporter": "python",
   "pygments_lexer": "ipython3",
   "version": "3.9.16"
  }
 },
 "nbformat": 4,
 "nbformat_minor": 5
}
